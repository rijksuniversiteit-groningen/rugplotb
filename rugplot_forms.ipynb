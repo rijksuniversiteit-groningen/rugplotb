{
 "cells": [
  {
   "cell_type": "markdown",
   "id": "c6ef475d-f4d2-44fe-b4d2-12495d4efe74",
   "metadata": {},
   "source": [
    "# ipywidgets-jsonschema demo"
   ]
  },
  {
   "cell_type": "markdown",
   "id": "5b1bb7b8-06ca-473e-8bf7-07592bf29c77",
   "metadata": {},
   "source": [
    "`ipywidgets-jsonschema` allows you to generate a widget form from an existing schema that follows th JSON Schema specification. We first define a schema:"
   ]
  },
  {
   "cell_type": "markdown",
   "id": "7cc08b1c-ac7d-4254-941c-81848024dc32",
   "metadata": {},
   "source": [
    "Generating the widget form for it and visualizing it in Jupyter is as simple as this:"
   ]
  },
  {
   "cell_type": "code",
   "execution_count": 1,
   "id": "5c33de7b-4568-49e3-8c40-a901e9bd0505",
   "metadata": {
    "tags": []
   },
   "outputs": [],
   "source": [
    "from ipywidgets_jsonschema import Form\n",
    "import ipywidgets as widgets\n",
    "from IPython.display import display"
   ]
  },
  {
   "cell_type": "code",
   "execution_count": 2,
   "id": "f9297b03-824b-4d68-925f-c2ab8fec122b",
   "metadata": {
    "tags": []
   },
   "outputs": [],
   "source": [
    "import json\n",
    "import glob\n",
    "import csv\n",
    "import os"
   ]
  },
  {
   "cell_type": "code",
   "execution_count": 3,
   "id": "04945b41-9cc7-4b7a-a34f-c7a5b359cd16",
   "metadata": {
    "tags": []
   },
   "outputs": [],
   "source": [
    "from rpy2 import robjects\n",
    "\n",
    "# activate R magic\n",
    "%load_ext rpy2.ipython"
   ]
  },
  {
   "cell_type": "code",
   "execution_count": 4,
   "id": "18519275-3815-491b-adaf-922a3b167075",
   "metadata": {
    "tags": []
   },
   "outputs": [],
   "source": [
    "# !wget https://datahub.io/machine-learning/iris/r/iris.csv"
   ]
  },
  {
   "cell_type": "code",
   "execution_count": 5,
   "id": "ae53b1d2-ea06-4907-acf5-27f6a1314e33",
   "metadata": {
    "tags": []
   },
   "outputs": [],
   "source": [
    "# !wget https://datahub.io/machine-learning/autos/r/autos.csv"
   ]
  },
  {
   "cell_type": "markdown",
   "id": "ffe87649-3267-4d8c-9627-4543233300f7",
   "metadata": {},
   "source": [
    "## Find csv ans json-schema files"
   ]
  },
  {
   "cell_type": "code",
   "execution_count": 6,
   "id": "4f99052b-db64-44de-a28d-97637f57f165",
   "metadata": {
    "tags": []
   },
   "outputs": [
    {
     "name": "stdout",
     "output_type": "stream",
     "text": [
      "/home3/p270806\n"
     ]
    }
   ],
   "source": [
    "!pwd"
   ]
  },
  {
   "cell_type": "code",
   "execution_count": 7,
   "id": "9fec23cb-e0ce-4e02-9249-a0059bd8550f",
   "metadata": {
    "tags": []
   },
   "outputs": [
    {
     "name": "stdout",
     "output_type": "stream",
     "text": [
      "['iris.csv', 'autos.csv', 'exergamelf2.csv']\n",
      "['./histogram_schema.json', './pca_projection_schema.json', './scatter_schema.json', './violin_schema.json', './heatmap_schema.json']\n"
     ]
    }
   ],
   "source": [
    "csvfiles = glob.glob('*.{}'.format('csv'),recursive=True)\n",
    "print(csvfiles)\n",
    "\n",
    "jsfiles = glob.glob('./**/*{}'.format('schema.json'),recursive=True)\n",
    "print(jsfiles)"
   ]
  },
  {
   "cell_type": "code",
   "execution_count": 8,
   "id": "99d562a2-cdaa-4c04-851c-99360f45cf38",
   "metadata": {
    "tags": []
   },
   "outputs": [
    {
     "data": {
      "text/plain": [
       "[('histogram', './histogram_schema.json'),\n",
       " ('pca', './pca_projection_schema.json'),\n",
       " ('scatter', './scatter_schema.json'),\n",
       " ('violin', './violin_schema.json'),\n",
       " ('heatmap', './heatmap_schema.json')]"
      ]
     },
     "execution_count": 8,
     "metadata": {},
     "output_type": "execute_result"
    }
   ],
   "source": [
    "# import re\n",
    "\n",
    "# extract kind of plot\n",
    "jsfiles = [(os.path.split(f)[-1].split('_', 1)[0],f) for f in jsfiles]\n",
    "jsfiles"
   ]
  },
  {
   "cell_type": "markdown",
   "id": "684d75de-a924-43ed-b41f-8412e2c25f7e",
   "metadata": {},
   "source": [
    "### Get column names function from a data file"
   ]
  },
  {
   "cell_type": "code",
   "execution_count": 9,
   "id": "0d6dff6c-9bd5-4145-9400-161ff1c0bc56",
   "metadata": {
    "tags": []
   },
   "outputs": [
    {
     "data": {
      "text/plain": [
       "['sepallength', 'sepalwidth', 'petallength', 'petalwidth', 'class']"
      ]
     },
     "execution_count": 9,
     "metadata": {},
     "output_type": "execute_result"
    }
   ],
   "source": [
    "\n",
    "def setcolnames(jschema):\n",
    "    if isinstance(jschema, dict):\n",
    "        if \"$comment\" in jschema:\n",
    "            jschema['enum'] = fcolumns\n",
    "        for key, value in jschema.items():\n",
    "            setcolnames(value)\n",
    "    elif isinstance(jschema, list):\n",
    "        for item in jschema:\n",
    "            setcolnames(item)\n",
    "\n",
    "            \n",
    "def getcolnames(csvfile):\n",
    "    # TODO: validate that the columns can be extracted\n",
    "    with open(csvfile, 'r', newline='') as f_headers:\n",
    "        fcols = next(csv.reader(f_headers))\n",
    "    return(fcols)\n",
    "    \n",
    "fcolumns = getcolnames(csvfiles[0])\n",
    "fcolumns\n",
    "    "
   ]
  },
  {
   "cell_type": "markdown",
   "id": "b452475b-8fa6-4615-9eaf-549a72eb7e9f",
   "metadata": {},
   "source": [
    "### Select a datafile, a json schema (task)"
   ]
  },
  {
   "cell_type": "code",
   "execution_count": 10,
   "id": "08153785-b441-45a5-9c5f-8c64f87bed1f",
   "metadata": {},
   "outputs": [],
   "source": [
    "# function to run rugplot R methods\n",
    "\n",
    "def runrmethod(jstring, tplot):\n",
    "    # jsonparams = json.dumps(jsform.data)\n",
    "    # vplot = menuSchemas.label\n",
    "    robjects.globalenv['jsonparams'] = jstring\n",
    "    robjects.globalenv['vplot'] = tplot\n",
    "\n",
    "    # TODO: print output in the cell output\n",
    "    \n",
    "    pp = robjects.r('''\n",
    "        library(rugplot)\n",
    "\n",
    "        # TODO: fix the color when colour is None/Na in PCA\n",
    "\n",
    "        lp <-  jsonlite::fromJSON(jsonparams)\n",
    "\n",
    "        # print(lp)\n",
    "        p <- create_rugplot(lp, visplot = vplot)\n",
    "        p\n",
    "    ''')\n",
    "    pp"
   ]
  },
  {
   "cell_type": "code",
   "execution_count": 11,
   "id": "45c5d4d6-09f7-4df6-ab3a-376bfaef7556",
   "metadata": {
    "tags": []
   },
   "outputs": [
    {
     "data": {
      "application/vnd.jupyter.widget-view+json": {
       "model_id": "7a7c2c3fdb8547b0a9620a1008de7297",
       "version_major": 2,
       "version_minor": 0
      },
      "text/plain": [
       "VBox(children=(Dropdown(description='Select a data file:', options=('iris.csv', 'autos.csv', 'exergamelf2.csv'…"
      ]
     },
     "execution_count": 11,
     "metadata": {},
     "output_type": "execute_result"
    }
   ],
   "source": [
    "menuFiles = widgets.Dropdown(\n",
    "    options=csvfiles,\n",
    "    value=None,\n",
    "    description='Select a data file:',\n",
    "    disabled=False,\n",
    ")\n",
    "\n",
    "menuSchemas = widgets.Dropdown(\n",
    "    options=jsfiles,\n",
    "    value=None,\n",
    "    description='Select a json schema:',\n",
    "    disabled=False,\n",
    ")\n",
    "\n",
    "jsform = None\n",
    "\n",
    "outputf = widgets.Output()\n",
    "outputf2 = widgets.Output()\n",
    "outplot = widgets.Output()\n",
    "\n",
    "fschema = {}\n",
    "\n",
    "def on_file_change(change):\n",
    "    global fcolumns\n",
    "    global jsform\n",
    "    global outputf2\n",
    "    global outputf\n",
    "    \n",
    "    with outputf:\n",
    "        print(change['new'])\n",
    "    # Load column names (variables from the file)\n",
    "    fcolumns = getcolnames(change['new'])\n",
    "    # TODO: set menuFiles.value to None if getcolnames fails\n",
    "    \n",
    "    if fschema:\n",
    "        # update filename\n",
    "        fschema['properties']['filename']['default'] = menuFiles.value\n",
    "        # update jsonschema with column names\n",
    "        setcolnames(fschema)\n",
    "        # Display form based on the updated schema\n",
    "        \n",
    "        jsform = Form(fschema)\n",
    "        with outputf2:\n",
    "            outputf2.clear_output()\n",
    "            jsform.show(width=\"800px\")\n",
    "    # elif menuSchemas.value != None\n",
    "    #    Load the json schema and update column names\n",
    "    #    Display form based on the updated schema\n",
    "        \n",
    "def on_schema_change(change):\n",
    "    global fschema \n",
    "    global jsform\n",
    "    global outputf2\n",
    "    \n",
    "    # with outputf:\n",
    "    #     print(change['new'])\n",
    "    # Load the new schema\n",
    "    # TODO: validate that the json file is correct\n",
    "    with open(change['new'], \"r\") as f:\n",
    "        fschema = json.load(f)\n",
    "    \n",
    "    if menuFiles.value != None:\n",
    "        setcolnames(fschema)\n",
    "        # update filename\n",
    "        fschema['properties']['filename']['default'] = menuFiles.value\n",
    "\n",
    "    jsform = Form(fschema)\n",
    "    with outputf2:\n",
    "        outputf2.clear_output()\n",
    "        jsform.show(width=\"800px\")\n",
    "    # jsform = widgets.VBox(jsform._form_element.widgets, layout=widgets.Layout(width=\"800px\"))\n",
    "    \n",
    "    # if length fcolumns > 0\n",
    "    #    ppopulate new key columns\n",
    "\n",
    "def on_button_clicked(b):\n",
    "    global jsform\n",
    "    global outplot\n",
    "    \n",
    "    # validate jsonform content\n",
    "    with outplot:\n",
    "        outplot.clear_output()\n",
    "        runrmethod(json.dumps(jsform.data), menuSchemas.label)\n",
    "    \n",
    "button = widgets.Button(description=\"Submit\")\n",
    "\n",
    "# display(menuFiles, menuSchemas,outputf)\n",
    "# display(button)\n",
    "\n",
    "box = widgets.VBox(children=[menuFiles,menuSchemas,outputf2,button,outplot])\n",
    "\n",
    "button.on_click(on_button_clicked)\n",
    "menuFiles.observe(on_file_change, names='value')\n",
    "menuSchemas.observe(on_schema_change, names='value')\n",
    "box"
   ]
  },
  {
   "cell_type": "code",
   "execution_count": 67,
   "id": "5e0f702a-98d9-4a2b-ab73-f93f98209edb",
   "metadata": {},
   "outputs": [],
   "source": [
    "# jsform.show(width=\"800px\")"
   ]
  },
  {
   "cell_type": "code",
   "execution_count": 48,
   "id": "75d3e5e6-6e53-4258-9833-82d3b5173c56",
   "metadata": {},
   "outputs": [
    {
     "data": {
      "text/plain": [
       "{'description': \"Parameters for a PCA projection using the 'rugplot' R package\",\n",
       " 'filename': 'iris.csv',\n",
       " 'variables': None,\n",
       " 'scale': True,\n",
       " 'colour': 'class',\n",
       " 'biplot': True,\n",
       " 'labels': {'title': None,\n",
       "  'subtitle': None,\n",
       "  'tag': None,\n",
       "  'colour': None,\n",
       "  'fill': None,\n",
       "  'caption': None},\n",
       " 'save': {'save': False,\n",
       "  'outputfilename': None,\n",
       "  'overwrite': False,\n",
       "  'width': 15.0,\n",
       "  'height': 10.0,\n",
       "  'dpi': 72.0,\n",
       "  'device': 'pdf',\n",
       "  'sanitize': True}}"
      ]
     },
     "execution_count": 48,
     "metadata": {},
     "output_type": "execute_result"
    }
   ],
   "source": [
    "jsform.data"
   ]
  },
  {
   "cell_type": "markdown",
   "id": "fecc9fb6-45a1-4ddd-b1e0-7d44a6eaca0f",
   "metadata": {
    "tags": []
   },
   "source": [
    "### Provide the parameters"
   ]
  },
  {
   "cell_type": "code",
   "execution_count": 30,
   "id": "802d1287-0150-47fe-b978-b7d4493710fd",
   "metadata": {
    "scrolled": true,
    "tags": []
   },
   "outputs": [
    {
     "data": {
      "application/vnd.jupyter.widget-view+json": {
       "model_id": "aae2120a1dbb45929c351871bef542a6",
       "version_major": 2,
       "version_minor": 0
      },
      "text/plain": [
       "VBox(children=(Accordion(children=(VBox(children=(VBox(children=(VBox(children=(Dropdown(options=('Default tra…"
      ]
     },
     "metadata": {},
     "output_type": "display_data"
    }
   ],
   "source": [
    "jsform.show(width=\"800px\")"
   ]
  },
  {
   "cell_type": "code",
   "execution_count": 26,
   "id": "2f712a85-d114-4dad-b44b-e04e7e21b7d2",
   "metadata": {},
   "outputs": [],
   "source": [
    "# outputf2 = widgets.Output(layout={'border': '1px solid black'})\n",
    "# with outputf2:\n",
    "#     # w = widgets.VBox(\n",
    "#     #         jsform._form_element.widgets, layout=widgets.Layout(width=\"800px\")\n",
    "#     #     )\n",
    "#     # display(w)\n",
    "#     jsform.show(width=\"800px\")"
   ]
  },
  {
   "cell_type": "code",
   "execution_count": 34,
   "id": "756a1de0-496b-439d-a70e-a905dbbd92de",
   "metadata": {
    "tags": []
   },
   "outputs": [],
   "source": [
    "# inspect data\n",
    "# jsform.data"
   ]
  },
  {
   "cell_type": "code",
   "execution_count": 32,
   "id": "99a948c6-25f3-412b-a78c-a61a48a4a05d",
   "metadata": {
    "tags": []
   },
   "outputs": [],
   "source": [
    "# Prepare parameters for R code\n",
    "jsonparams = json.dumps(jsform.data)\n",
    "vplot = menuSchemas.label"
   ]
  },
  {
   "cell_type": "code",
   "execution_count": 33,
   "id": "c3d39802-684e-4f0d-bfd9-23331c05bf81",
   "metadata": {
    "tags": []
   },
   "outputs": [
    {
     "name": "stdout",
     "output_type": "stream",
     "text": [
      "\n",
      "Reading all columns\n"
     ]
    },
    {
     "data": {
      "text/plain": [
       "Creating the heatmap ...\n",
       "Facets: . ~ .\n",
       "ggplot2::ggplot(dt, ggplot2::aes(x = idrow,y = myVars,fill = normVal)) +\n",
       "  ggplot2::geom_raster() +\n",
       "  ggplot2::theme_bw() +\n",
       "  ggplot2::theme(plot.title = ggplot2::element_text(hjust = 0.5))\n",
       "Plot saved in: heatmaptest.png\n",
       "\n",
       "Heatmap done.\n"
      ]
     },
     "metadata": {},
     "output_type": "display_data"
    },
    {
     "data": {
      "image/png": "[encoded data removed]",
      "text/plain": [
       "<IPython.core.display.Image object>"
      ]
     },
     "metadata": {},
     "output_type": "display_data"
    }
   ],
   "source": [
    "%%R -i jsonparams,vplot\n",
    "library(rugplot)\n",
    "\n",
    "# TODO: fix the color when colour is None/Na in PCA\n",
    "\n",
    "lp <-  jsonlite::fromJSON(jsonparams)\n",
    "\n",
    "# print(lp)\n",
    "create_rugplot(lp, visplot = vplot)"
   ]
  },
  {
   "cell_type": "markdown",
   "id": "fb8ae881-58de-47d0-bb69-3cb2a88a6452",
   "metadata": {},
   "source": [
    "## TODO\n",
    "\n",
    "- create a select widget to read the filenames (done)\n",
    "- create a widget to read json schemas (done)\n",
    "- based on the selected filename and json schemas, populate the form (done)\n",
    "- Fail to color scatterplot\n",
    "- fix the color when colour is None/Na in PCA\n",
    "- Test the rest of the plots\n",
    "- Find why facets are not displayed (done)\n",
    "- axes scales in violin schema\n",
    "- in axes scales, (violin plots), modify schema to accept array of pairs (label = new lavel)"
   ]
  },
  {
   "cell_type": "code",
   "execution_count": 164,
   "id": "759ef624-4b86-49ef-94db-dd0b1e7e1f61",
   "metadata": {
    "tags": []
   },
   "outputs": [],
   "source": [
    "## Accessing elements in form\n",
    "# form.widget.children[2].children[1].observe(on_value_change2,names='value')"
   ]
  },
  {
   "cell_type": "markdown",
   "id": "68487025-bddd-4820-93c3-cc7f81ce0ad1",
   "metadata": {},
   "source": [
    "To get access to the current data, we can use the `data` property of `form`:"
   ]
  },
  {
   "cell_type": "markdown",
   "id": "aff26b6e-08ca-4e28-a168-fe0e95d208ea",
   "metadata": {},
   "source": [
    "The data displayed in the widget can also be live-updated by setting the `data` property:"
   ]
  },
  {
   "cell_type": "code",
   "execution_count": null,
   "id": "d62aeae7-9a4f-46d7-a6d3-a008fb075b90",
   "metadata": {
    "tags": []
   },
   "outputs": [],
   "source": [
    "# for aes in schema['properties']['aesthetics']['properties']:\n",
    "#     schema['properties']['aesthetics']['properties'][aes]['enum']= fcolumns\n",
    "#     print(aes)\n",
    "#     #aes['enum']= fcolumns\n",
    "# schema"
   ]
  },
  {
   "cell_type": "code",
   "execution_count": null,
   "id": "0464ad95-c9bf-4a54-96a9-bb84f217a275",
   "metadata": {},
   "outputs": [],
   "source": []
  }
 ],
 "metadata": {
  "kernelspec": {
   "display_name": "Python 3 (ipykernel)",
   "language": "python",
   "name": "python3"
  },
  "language_info": {
   "codemirror_mode": {
    "name": "ipython",
    "version": 3
   },
   "file_extension": ".py",
   "mimetype": "text/x-python",
   "name": "python",
   "nbconvert_exporter": "python",
   "pygments_lexer": "ipython3",
   "version": "3.10.6"
  }
 },
 "nbformat": 4,
 "nbformat_minor": 5
}
